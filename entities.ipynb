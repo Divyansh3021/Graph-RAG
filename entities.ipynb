{
 "cells": [
  {
   "cell_type": "code",
   "execution_count": 13,
   "metadata": {},
   "outputs": [],
   "source": [
    "prompt = \"\"\"\n",
    "Extract entities and relationships from the following code. Return the entities and relationships in a adjacency matrix format, where nodes can be functions, objects or variables and edge is the value it is returning to other nodes.\n",
    "\n",
    "Code :\n",
    "``` \n",
    "from sentence_transformers import SentenceTransformer\n",
    "import numpy as np\n",
    "from KnowledgeGraph import kg\n",
    "\n",
    "class GraphEmbedding:\n",
    "    def __init__(self, model_name='all-MiniLM-L6-v2'):\n",
    "        self.model = SentenceTransformer(model_name)\n",
    "\n",
    "    def embed_node(self, node):\n",
    "        return self.model.encode(node)\n",
    "\n",
    "    def embed_graph(self, graph):\n",
    "        embeddings = {}\n",
    "        for node in graph.nodes():\n",
    "            embeddings[node] = self.embed_node(node)\n",
    "        return embeddings\n",
    "\n",
    "# Usage\n",
    "ge = GraphEmbedding()\n",
    "node_embeddings = ge.embed_graph(kg.graph)\n",
    "```\n",
    "\n",
    "Format the output as JSON with the following keys and nothing else:\n",
    "Adjacency_matrix\n",
    "\"\"\""
   ]
  },
  {
   "cell_type": "code",
   "execution_count": 49,
   "metadata": {},
   "outputs": [],
   "source": [
    "from dotenv import load_dotenv\n",
    "from langchain_google_genai import ChatGoogleGenerativeAI\n",
    "from langchain_core.pydantic_v1 import BaseModel, Field\n",
    "from typing import List, Dict\n",
    "from llama_index.llms.langchain import LangChainLLM\n",
    "\n",
    "load_dotenv()\n",
    "\n",
    "llm = ChatGoogleGenerativeAI(\n",
    "    model=\"gemini-1.5-flash\",\n",
    "    temperature=0,\n",
    "    max_tokens=None,\n",
    "    timeout=None,\n",
    "    max_retries=2,\n",
    "    tiemout = 15\n",
    ")"
   ]
  },
  {
   "cell_type": "code",
   "execution_count": 14,
   "metadata": {},
   "outputs": [],
   "source": [
    "response = llm.invoke(prompt)"
   ]
  },
  {
   "cell_type": "code",
   "execution_count": 15,
   "metadata": {},
   "outputs": [
    {
     "name": "stdout",
     "output_type": "stream",
     "text": [
      "```json\n",
      "{\n",
      "\"Adjacency_matrix\": {\n",
      "\"GraphEmbedding\": {\n",
      "\"model\": \"SentenceTransformer\",\n",
      "\"__init__\": \"self.model\",\n",
      "\"embed_node\": \"self.model.encode(node)\",\n",
      "\"embed_graph\": {\n",
      "\"embeddings\": \"{}\",\n",
      "\"node\": \"graph.nodes()\",\n",
      "\"embeddings[node]\": \"self.embed_node(node)\"\n",
      "}\n",
      "},\n",
      "\"SentenceTransformer\": {\n",
      "\"model_name\": \"all-MiniLM-L6-v2\"\n",
      "},\n",
      "\"ge\": \"GraphEmbedding()\",\n",
      "\"node_embeddings\": \"ge.embed_graph(kg.graph)\",\n",
      "\"kg\": \"KnowledgeGraph\",\n",
      "\"kg.graph\": \"graph\",\n",
      "\"graph\": \"graph.nodes()\",\n",
      "\"node\": \"node\",\n",
      "\"embeddings\": \"{}\",\n",
      "\"self.model\": \"SentenceTransformer(model_name)\",\n",
      "\"self.model.encode(node)\": \"np.array\",\n",
      "\"np.array\": \"embeddings[node]\"\n",
      "}\n",
      "}\n",
      "```\n"
     ]
    }
   ],
   "source": [
    "print(response.content)"
   ]
  },
  {
   "cell_type": "code",
   "execution_count": 28,
   "metadata": {},
   "outputs": [],
   "source": [
    "from langchain.output_parsers import ResponseSchema\n",
    "from langchain.output_parsers import StructuredOutputParser\n",
    "\n",
    "adj_matrix_schema = ResponseSchema(name=\"Adjacency_matrix\",\n",
    "                                   description=\"Adjacency matrix of the code\",\n",
    "                                   type=\"List\")\n",
    "\n",
    "response_schemas = [adj_matrix_schema]"
   ]
  },
  {
   "cell_type": "code",
   "execution_count": 29,
   "metadata": {},
   "outputs": [],
   "source": [
    "output_parser = StructuredOutputParser.from_response_schemas(response_schemas=response_schemas)"
   ]
  },
  {
   "cell_type": "code",
   "execution_count": 30,
   "metadata": {},
   "outputs": [],
   "source": [
    "format_inst = output_parser.get_format_instructions()"
   ]
  },
  {
   "cell_type": "code",
   "execution_count": 31,
   "metadata": {},
   "outputs": [
    {
     "name": "stdout",
     "output_type": "stream",
     "text": [
      "The output should be a markdown code snippet formatted in the following schema, including the leading and trailing \"```json\" and \"```\":\n",
      "\n",
      "```json\n",
      "{\n",
      "\t\"Adjacency_matrix\": List  // Adjacency matrix of the code\n",
      "}\n",
      "```\n"
     ]
    }
   ],
   "source": [
    "print(format_inst)"
   ]
  },
  {
   "cell_type": "code",
   "execution_count": 50,
   "metadata": {},
   "outputs": [],
   "source": [
    "new_prompt = \"\"\"\n",
    "Extract entities and relationships from the following code. Return the entities and relationships in a adjacency matrix format. Make sure the adjacency matrix should represent a Directed Graph.\n",
    "\n",
    "In the adjacency matrix where:\n",
    "- Rows and columns represent the entities (nodes).\n",
    "- Matrix elements represent the relationships between entities.\n",
    "- Use 0 if there's no direct relationship.\n",
    "- Use a word or short phrase to describe the relationship if one exists.\n",
    "\n",
    "\n",
    "Code :\n",
    "``` \n",
    "from sentence_transformers import SentenceTransformer\n",
    "import numpy as np\n",
    "from KnowledgeGraph import kg\n",
    "\n",
    "class GraphEmbedding:\n",
    "    def __init__(self, model_name='all-MiniLM-L6-v2'):\n",
    "        self.model = SentenceTransformer(model_name)\n",
    "\n",
    "    def embed_node(self, node):\n",
    "        return self.model.encode(node)\n",
    "\n",
    "    def embed_graph(self, graph):\n",
    "        embeddings = {}\n",
    "        for node in graph.nodes():\n",
    "            embeddings[node] = self.embed_node(node)\n",
    "        return embeddings\n",
    "\n",
    "# Usage\n",
    "ge = GraphEmbedding()\n",
    "node_embeddings = ge.embed_graph(kg.graph)\n",
    "```\n",
    "\n",
    "The output should be a markdown code snippet formatted in the following schema, including the leading and trailing \"```json\" and \"```\":\n",
    "\n",
    "```json\n",
    "{\n",
    "\t\"Adjacency_matrix\": List  // Adjacency matrix of the code\n",
    "}\n",
    "```\n",
    "\n",
    "\"\"\""
   ]
  },
  {
   "cell_type": "code",
   "execution_count": 51,
   "metadata": {},
   "outputs": [],
   "source": [
    "new_res = llm.invoke(new_prompt)"
   ]
  },
  {
   "cell_type": "code",
   "execution_count": 52,
   "metadata": {},
   "outputs": [
    {
     "name": "stdout",
     "output_type": "stream",
     "text": [
      "\n"
     ]
    }
   ],
   "source": [
    "print(new_res.content)"
   ]
  },
  {
   "cell_type": "code",
   "execution_count": 41,
   "metadata": {},
   "outputs": [],
   "source": [
    "res_as_dict = output_parser.parse(new_res.content)"
   ]
  },
  {
   "cell_type": "code",
   "execution_count": 42,
   "metadata": {},
   "outputs": [
    {
     "name": "stdout",
     "output_type": "stream",
     "text": [
      "{'Adjacency_matrix': [['', 'model_name', 'model', 'embed_node', 'embed_graph', 'ge', 'node_embeddings', 'kg', 'graph', 'node', 'embeddings'], ['model_name', 0, 'parameter', 0, 0, 0, 0, 0, 0, 0, 0], ['model', 0, 0, 'attribute', 0, 0, 0, 0, 0, 0, 0], ['embed_node', 0, 0, 0, 0, 0, 0, 0, 0, 'parameter', 0], ['embed_graph', 0, 0, 0, 0, 0, 0, 0, 'parameter', 0, 'return'], ['ge', 0, 0, 0, 0, 0, 'attribute', 0, 0, 0, 0], ['node_embeddings', 0, 0, 0, 0, 0, 0, 0, 0, 0, 'return'], ['kg', 0, 0, 0, 0, 0, 0, 0, 'attribute', 0, 0], ['graph', 0, 0, 0, 0, 0, 0, 0, 0, 0, 'parameter'], ['node', 0, 0, 0, 0, 0, 0, 0, 0, 0, 'parameter'], ['embeddings', 0, 0, 0, 0, 0, 0, 0, 0, 0, 0]]}\n"
     ]
    }
   ],
   "source": [
    "print(res_as_dict)"
   ]
  },
  {
   "cell_type": "code",
   "execution_count": 43,
   "metadata": {},
   "outputs": [
    {
     "name": "stdout",
     "output_type": "stream",
     "text": [
      "<class 'dict'>\n"
     ]
    }
   ],
   "source": [
    "print(type(res_as_dict))"
   ]
  },
  {
   "cell_type": "code",
   "execution_count": 44,
   "metadata": {},
   "outputs": [
    {
     "name": "stdout",
     "output_type": "stream",
     "text": [
      "[['', 'model_name', 'model', 'embed_node', 'embed_graph', 'ge', 'node_embeddings', 'kg', 'graph', 'node', 'embeddings'], ['model_name', 0, 'parameter', 0, 0, 0, 0, 0, 0, 0, 0], ['model', 0, 0, 'attribute', 0, 0, 0, 0, 0, 0, 0], ['embed_node', 0, 0, 0, 0, 0, 0, 0, 0, 'parameter', 0], ['embed_graph', 0, 0, 0, 0, 0, 0, 0, 'parameter', 0, 'return'], ['ge', 0, 0, 0, 0, 0, 'attribute', 0, 0, 0, 0], ['node_embeddings', 0, 0, 0, 0, 0, 0, 0, 0, 0, 'return'], ['kg', 0, 0, 0, 0, 0, 0, 0, 'attribute', 0, 0], ['graph', 0, 0, 0, 0, 0, 0, 0, 0, 0, 'parameter'], ['node', 0, 0, 0, 0, 0, 0, 0, 0, 0, 'parameter'], ['embeddings', 0, 0, 0, 0, 0, 0, 0, 0, 0, 0]]\n"
     ]
    }
   ],
   "source": [
    "print(res_as_dict['Adjacency_matrix'])"
   ]
  },
  {
   "cell_type": "code",
   "execution_count": null,
   "metadata": {},
   "outputs": [],
   "source": [
    "[['',          'model_name', 'model',   'embed_node', 'embed_graph', 'ge', 'node_embeddings', 'kg', 'graph', 'node', 'embeddings'], \n",
    " ['model_name',      0,      'parameter', 0,             0,            0,         0,           0,      0,      0,         0      ],\n",
    " ['model',           0,         0,      'attribute',     0,            0,         0,           0,      0,      0,         0      ],\n",
    " ['embed_node',      0,          0,          0,          0,            0,         0,           0,      0,    'parameter',  0     ],\n",
    " ['embed_graph',     0,          0,          0,          0,              0,          0, 0, 'parameter', 0, 'return'], \n",
    " ['ge', 0, 0, 0, 0, 0, 'attribute', 0, 0, 0, 0], \n",
    " ['node_embeddings', 0, 0, 0, 0, 0, 0, 0, 0, 0, 'return'], \n",
    " ['kg', 0, 0, 0, 0, 0, 0, 0, 'attribute', 0, 0], \n",
    " ['graph', 0, 0, 0, 0, 0, 0, 0, 0, 0, 'parameter'], \n",
    " ['node', 0, 0, 0, 0, 0, 0, 0, 0, 0, 'parameter'], \n",
    " ['embeddings', 0, 0, 0, 0, 0, 0, 0, 0, 0, 0]]\n"
   ]
  }
 ],
 "metadata": {
  "kernelspec": {
   "display_name": "Python 3",
   "language": "python",
   "name": "python3"
  },
  "language_info": {
   "codemirror_mode": {
    "name": "ipython",
    "version": 3
   },
   "file_extension": ".py",
   "mimetype": "text/x-python",
   "name": "python",
   "nbconvert_exporter": "python",
   "pygments_lexer": "ipython3",
   "version": "3.11.9"
  }
 },
 "nbformat": 4,
 "nbformat_minor": 2
}
