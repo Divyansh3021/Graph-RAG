{
 "cells": [
  {
   "cell_type": "code",
   "execution_count": 13,
   "metadata": {},
   "outputs": [],
   "source": [
    "prompt = \"\"\"\n",
    "Extract entities and relationships from the following code. Return the nodes and edges in JSON format.\n",
    "\n",
    "Code :\n",
    "``` \n",
    "from sentence_transformers import SentenceTransformer\n",
    "import numpy as np\n",
    "from KnowledgeGraph import kg\n",
    "\n",
    "class GraphEmbedding:\n",
    "    def __init__(self, model_name='all-MiniLM-L6-v2'):\n",
    "        self.model = SentenceTransformer(model_name)\n",
    "\n",
    "    def embed_node(self, node):\n",
    "        return self.model.encode(node)\n",
    "\n",
    "    def embed_graph(self, graph):\n",
    "        embeddings = {}\n",
    "        for node in graph.nodes():\n",
    "            embeddings[node] = self.embed_node(node)\n",
    "        return embeddings\n",
    "\n",
    "# Usage\n",
    "ge = GraphEmbedding()\n",
    "node_embeddings = ge.embed_graph(kg.graph)\n",
    "```\n",
    "\n",
    "Format the output as JSON with the following keys and nothing else:\n",
    "Adjacency_matrix\n",
    "\"\"\""
   ]
  },
  {
   "cell_type": "code",
   "execution_count": 6,
   "metadata": {},
   "outputs": [
    {
     "name": "stderr",
     "output_type": "stream",
     "text": [
      "c:\\Users\\divya\\AppData\\Local\\Programs\\Python\\Python311\\Lib\\site-packages\\tqdm\\auto.py:21: TqdmWarning: IProgress not found. Please update jupyter and ipywidgets. See https://ipywidgets.readthedocs.io/en/stable/user_install.html\n",
      "  from .autonotebook import tqdm as notebook_tqdm\n"
     ]
    }
   ],
   "source": [
    "from dotenv import load_dotenv\n",
    "from langchain_google_genai import ChatGoogleGenerativeAI\n",
    "from langchain_core.pydantic_v1 import BaseModel, Field\n",
    "from typing import List, Dict\n",
    "from llama_index.llms.langchain import LangChainLLM\n",
    "\n",
    "load_dotenv()\n",
    "\n",
    "llm = ChatGoogleGenerativeAI(\n",
    "    model=\"gemini-1.5-flash\",\n",
    "    temperature=0,\n",
    "    max_tokens=None,\n",
    "    timeout=None,\n",
    "    max_retries=2,\n",
    "    tiemout = 15\n",
    ")"
   ]
  },
  {
   "cell_type": "code",
   "execution_count": 14,
   "metadata": {},
   "outputs": [],
   "source": [
    "response = llm.invoke(prompt)"
   ]
  },
  {
   "cell_type": "code",
   "execution_count": 15,
   "metadata": {},
   "outputs": [
    {
     "name": "stdout",
     "output_type": "stream",
     "text": [
      "```json\n",
      "{\n",
      "\"Adjacency_matrix\": {\n",
      "\"GraphEmbedding\": {\n",
      "\"model\": \"SentenceTransformer\",\n",
      "\"__init__\": \"self.model\",\n",
      "\"embed_node\": \"self.model.encode(node)\",\n",
      "\"embed_graph\": {\n",
      "\"embeddings\": \"{}\",\n",
      "\"node\": \"graph.nodes()\",\n",
      "\"embeddings[node]\": \"self.embed_node(node)\"\n",
      "}\n",
      "},\n",
      "\"SentenceTransformer\": {\n",
      "\"model_name\": \"all-MiniLM-L6-v2\"\n",
      "},\n",
      "\"ge\": \"GraphEmbedding()\",\n",
      "\"node_embeddings\": \"ge.embed_graph(kg.graph)\",\n",
      "\"kg\": \"KnowledgeGraph\",\n",
      "\"kg.graph\": \"graph\",\n",
      "\"graph\": \"graph.nodes()\",\n",
      "\"node\": \"node\",\n",
      "\"embeddings\": \"{}\",\n",
      "\"self.model\": \"SentenceTransformer(model_name)\",\n",
      "\"self.model.encode(node)\": \"np.array\",\n",
      "\"np.array\": \"embeddings[node]\"\n",
      "}\n",
      "}\n",
      "```\n"
     ]
    }
   ],
   "source": [
    "print(response.content)"
   ]
  },
  {
   "cell_type": "code",
   "execution_count": 13,
   "metadata": {},
   "outputs": [],
   "source": [
    "from langchain.output_parsers import ResponseSchema\n",
    "from langchain.output_parsers import StructuredOutputParser\n",
    "\n",
    "nodes_schema = ResponseSchema(name=\"nodes\",\n",
    "                                   description=\"List of nodes\",\n",
    "                                   type=\"List\")\n",
    "\n",
    "edges_schema = ResponseSchema(name=\"edges\",\n",
    "                                   description=\"List of edges\",\n",
    "                                   type=\"List\")\n",
    "\n",
    "response_schemas = [nodes_schema, edges_schema]"
   ]
  },
  {
   "cell_type": "code",
   "execution_count": 14,
   "metadata": {},
   "outputs": [],
   "source": [
    "output_parser = StructuredOutputParser.from_response_schemas(response_schemas=response_schemas)"
   ]
  },
  {
   "cell_type": "code",
   "execution_count": 15,
   "metadata": {},
   "outputs": [],
   "source": [
    "format_inst = output_parser.get_format_instructions()"
   ]
  },
  {
   "cell_type": "code",
   "execution_count": 16,
   "metadata": {},
   "outputs": [
    {
     "name": "stdout",
     "output_type": "stream",
     "text": [
      "The output should be a markdown code snippet formatted in the following schema, including the leading and trailing \"```json\" and \"```\":\n",
      "\n",
      "```json\n",
      "{\n",
      "\t\"nodes\": List  // List of nodes\n",
      "\t\"edges\": List  // List of edges\n",
      "}\n",
      "```\n"
     ]
    }
   ],
   "source": [
    "print(format_inst)"
   ]
  },
  {
   "cell_type": "code",
   "execution_count": 9,
   "metadata": {},
   "outputs": [],
   "source": [
    "new_prompt = \"\"\"\n",
    "Extract the details from the following Python code and format them as a JSON object. Each class should be a node with its methods as nodes connected by edges. Each method should have nodes for its attributes and return values. Each edge should describe the relationship between nodes.\n",
    "\n",
    "For Example:\n",
    "\n",
    "Code :\n",
    "``` \n",
    "from sentence_transformers import SentenceTransformer\n",
    "import numpy as np\n",
    "from KnowledgeGraph import kg\n",
    "\n",
    "class GraphEmbedding:\n",
    "    def __init__(self, model_name='all-MiniLM-L6-v2'):\n",
    "        self.model = SentenceTransformer(model_name)\n",
    "\n",
    "    def embed_node(self, node):\n",
    "        return self.model.encode(node)\n",
    "\n",
    "    def embed_graph(self, graph):\n",
    "        embeddings = {}\n",
    "        for node in graph.nodes():\n",
    "            embeddings[node] = self.embed_node(node)\n",
    "        return embeddings\n",
    "\n",
    "# Usage\n",
    "ge = GraphEmbedding()\n",
    "node_embeddings = ge.embed_graph(kg.graph)\n",
    "```\n",
    "\n",
    "Output:\n",
    "```json\n",
    "{\n",
    "  \"nodes\": [\n",
    "    {\"id\": \"1\", \"label\": \"GraphEmbedding\"},\n",
    "    {\"id\": \"2\", \"label\": \"__init__\"},\n",
    "    {\"id\": \"3\", \"label\": \"model_name\"},\n",
    "    {\"id\": \"4\", \"label\": \"model\"},\n",
    "    {\"id\": \"5\", \"label\": \"embed_node\"},\n",
    "    {\"id\": \"6\", \"label\": \"node\"},\n",
    "    {\"id\": \"7\", \"label\": \"model.encode(node)\"},\n",
    "    {\"id\": \"8\", \"label\": \"embed_graph\"},\n",
    "    {\"id\": \"9\", \"label\": \"graph\"},\n",
    "    {\"id\": \"10\", \"label\": \"embeddings\"},\n",
    "    {\"id\": \"11\", \"label\": \"graph.nodes()\"},\n",
    "    {\"id\": \"12\", \"label\": \"embed_node(node)\"}\n",
    "  ],\n",
    "  \"edges\": [\n",
    "    {\"source\": \"1\", \"target\": \"2\", \"label\": \"has method\"},\n",
    "    {\"source\": \"2\", \"target\": \"3\", \"label\": \"has parameter\"},\n",
    "    {\"source\": \"2\", \"target\": \"4\", \"label\": \"has attribute\"},\n",
    "    {\"source\": \"1\", \"target\": \"5\", \"label\": \"has method\"},\n",
    "    {\"source\": \"5\", \"target\": \"6\", \"label\": \"has parameter\"},\n",
    "    {\"source\": \"5\", \"target\": \"7\", \"label\": \"returns\"},\n",
    "    {\"source\": \"1\", \"target\": \"8\", \"label\": \"has method\"},\n",
    "    {\"source\": \"8\", \"target\": \"9\", \"label\": \"has parameter\"},\n",
    "    {\"source\": \"8\", \"target\": \"10\", \"label\": \"has attribute\"},\n",
    "    {\"source\": \"8\", \"target\": \"11\", \"label\": \"has attribute\"},\n",
    "    {\"source\": \"8\", \"target\": \"12\", \"label\": \"returns\"}\n",
    "  ]\n",
    "}\n",
    "```\n",
    "\n",
    "Given Code:\n",
    "\n",
    "```\n",
    "from typing import List, Tuple\n",
    "from langchain_core.pydantic_v1 import BaseModel, Field\n",
    "from langchain import OpenAI\n",
    "\n",
    "# Define the entity and relation data models\n",
    "class Entity(BaseModel):\n",
    "    name: str = Field(description=\"The name of the entity\")\n",
    "\n",
    "class Relation(BaseModel):\n",
    "    entity1: str = Field(description=\"The first entity in the relationship\")\n",
    "    relationship: str = Field(description=\"The type of relationship\")\n",
    "    entity2: str = Field(description=\"The second entity in the relationship\")\n",
    "\n",
    "class ExtractedData(BaseModel):\n",
    "    entities: List[Entity] = Field(description=\"List of entities\")\n",
    "    relations: List[Relation] = Field(description=\"List of relations\")\n",
    "\n",
    "```\n",
    "\n",
    "\"\"\""
   ]
  },
  {
   "cell_type": "code",
   "execution_count": 17,
   "metadata": {},
   "outputs": [],
   "source": [
    "new_res = llm.invoke(new_prompt)"
   ]
  },
  {
   "cell_type": "code",
   "execution_count": 18,
   "metadata": {},
   "outputs": [
    {
     "name": "stdout",
     "output_type": "stream",
     "text": [
      "```json\n",
      "{\n",
      "  \"nodes\": [\n",
      "    {\n",
      "      \"id\": \"1\",\n",
      "      \"label\": \"Entity\"\n",
      "    },\n",
      "    {\n",
      "      \"id\": \"2\",\n",
      "      \"label\": \"name\"\n",
      "    },\n",
      "    {\n",
      "      \"id\": \"3\",\n",
      "      \"label\": \"Relation\"\n",
      "    },\n",
      "    {\n",
      "      \"id\": \"4\",\n",
      "      \"label\": \"entity1\"\n",
      "    },\n",
      "    {\n",
      "      \"id\": \"5\",\n",
      "      \"label\": \"relationship\"\n",
      "    },\n",
      "    {\n",
      "      \"id\": \"6\",\n",
      "      \"label\": \"entity2\"\n",
      "    },\n",
      "    {\n",
      "      \"id\": \"7\",\n",
      "      \"label\": \"ExtractedData\"\n",
      "    },\n",
      "    {\n",
      "      \"id\": \"8\",\n",
      "      \"label\": \"entities\"\n",
      "    },\n",
      "    {\n",
      "      \"id\": \"9\",\n",
      "      \"label\": \"relations\"\n",
      "    }\n",
      "  ],\n",
      "  \"edges\": [\n",
      "    {\n",
      "      \"source\": \"1\",\n",
      "      \"target\": \"2\",\n",
      "      \"label\": \"has attribute\"\n",
      "    },\n",
      "    {\n",
      "      \"source\": \"3\",\n",
      "      \"target\": \"4\",\n",
      "      \"label\": \"has attribute\"\n",
      "    },\n",
      "    {\n",
      "      \"source\": \"3\",\n",
      "      \"target\": \"5\",\n",
      "      \"label\": \"has attribute\"\n",
      "    },\n",
      "    {\n",
      "      \"source\": \"3\",\n",
      "      \"target\": \"6\",\n",
      "      \"label\": \"has attribute\"\n",
      "    },\n",
      "    {\n",
      "      \"source\": \"7\",\n",
      "      \"target\": \"8\",\n",
      "      \"label\": \"has attribute\"\n",
      "    },\n",
      "    {\n",
      "      \"source\": \"7\",\n",
      "      \"target\": \"9\",\n",
      "      \"label\": \"has attribute\"\n",
      "    }\n",
      "  ]\n",
      "}\n",
      "```\n"
     ]
    }
   ],
   "source": [
    "print(new_res.content)"
   ]
  },
  {
   "cell_type": "code",
   "execution_count": 19,
   "metadata": {},
   "outputs": [],
   "source": [
    "res_as_dict = output_parser.parse(new_res.content)"
   ]
  },
  {
   "cell_type": "code",
   "execution_count": 20,
   "metadata": {},
   "outputs": [
    {
     "name": "stdout",
     "output_type": "stream",
     "text": [
      "{'nodes': [{'id': '1', 'label': 'Entity'}, {'id': '2', 'label': 'name'}, {'id': '3', 'label': 'Relation'}, {'id': '4', 'label': 'entity1'}, {'id': '5', 'label': 'relationship'}, {'id': '6', 'label': 'entity2'}, {'id': '7', 'label': 'ExtractedData'}, {'id': '8', 'label': 'entities'}, {'id': '9', 'label': 'relations'}], 'edges': [{'source': '1', 'target': '2', 'label': 'has attribute'}, {'source': '3', 'target': '4', 'label': 'has attribute'}, {'source': '3', 'target': '5', 'label': 'has attribute'}, {'source': '3', 'target': '6', 'label': 'has attribute'}, {'source': '7', 'target': '8', 'label': 'has attribute'}, {'source': '7', 'target': '9', 'label': 'has attribute'}]}\n"
     ]
    }
   ],
   "source": [
    "print(res_as_dict)"
   ]
  },
  {
   "cell_type": "code",
   "execution_count": 21,
   "metadata": {},
   "outputs": [
    {
     "name": "stdout",
     "output_type": "stream",
     "text": [
      "<class 'dict'>\n"
     ]
    }
   ],
   "source": [
    "print(type(res_as_dict))"
   ]
  },
  {
   "cell_type": "code",
   "execution_count": 22,
   "metadata": {},
   "outputs": [
    {
     "name": "stdout",
     "output_type": "stream",
     "text": [
      "[{'id': '1', 'label': 'Entity'}, {'id': '2', 'label': 'name'}, {'id': '3', 'label': 'Relation'}, {'id': '4', 'label': 'entity1'}, {'id': '5', 'label': 'relationship'}, {'id': '6', 'label': 'entity2'}, {'id': '7', 'label': 'ExtractedData'}, {'id': '8', 'label': 'entities'}, {'id': '9', 'label': 'relations'}]\n"
     ]
    }
   ],
   "source": [
    "print(res_as_dict['nodes'])"
   ]
  },
  {
   "cell_type": "code",
   "execution_count": null,
   "metadata": {},
   "outputs": [],
   "source": [
    "\n"
   ]
  }
 ],
 "metadata": {
  "kernelspec": {
   "display_name": "Python 3",
   "language": "python",
   "name": "python3"
  },
  "language_info": {
   "codemirror_mode": {
    "name": "ipython",
    "version": 3
   },
   "file_extension": ".py",
   "mimetype": "text/x-python",
   "name": "python",
   "nbconvert_exporter": "python",
   "pygments_lexer": "ipython3",
   "version": "3.11.9"
  }
 },
 "nbformat": 4,
 "nbformat_minor": 2
}
