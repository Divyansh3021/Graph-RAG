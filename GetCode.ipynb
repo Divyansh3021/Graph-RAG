{
 "cells": [
  {
   "cell_type": "code",
   "execution_count": null,
   "metadata": {},
   "outputs": [],
   "source": [
    "from langchain_text_splitters import Language, RecursiveCharacterTextSplitter"
   ]
  },
  {
   "cell_type": "code",
   "execution_count": null,
   "metadata": {},
   "outputs": [],
   "source": [
    "code = \"\"\"\n",
    "var vscode = require('vscode');\n",
    "/**\n",
    " * @param {vscode.ExtensionContext} context\n",
    " */\n",
    "function activate(context) {\n",
    "\tlet editor = vscode.window.activeTextEditor;\n",
    "\n",
    "\tlet generate = vscode.commands.registerCommand('example.helloWorld', async function () {\n",
    "\n",
    "\t\tvar context = \"\";\n",
    "\n",
    "\t\tif (!editor) {\n",
    "\t\t\teditor = vscode.window.activeNotebookEditor;\n",
    "\t\t\tif (!editor) {\n",
    "\t\t\t\t// No active editor found\n",
    "\t\t\t\tvscode.window.showErrorMessage('No active text or notebook editor found.');\n",
    "\t\t\t\tcontext = \" \";\n",
    "\t\t\t}\n",
    "\t\t}\n",
    "\n",
    "\t\ttry {\n",
    "\t\t\tif (editor.document) {\n",
    "\t\t\t\t// Handling the text editor\n",
    "\t\t\t\tvar position = editor.selection.active;\n",
    "\t\t\t\tvar currentLine = position.line;\n",
    "\t\t\t\tvar start = new vscode.Position(0, 0);\n",
    "\t\t\t\tvar end = new vscode.Position(currentLine, editor.document.lineAt(currentLine).text.length);\n",
    "\t\t\t\tvar selection = new vscode.Selection(start, end);\n",
    "\t\t\t\tvar context = editor.document.getText(selection);\n",
    "\n",
    "\t\t\t\t// Fallback to entire document if the selection is empty\n",
    "\t\t\t\tif (!context.trim()) {\n",
    "\t\t\t\t\tcontext = editor.document.getText();\n",
    "\t\t\t\t}\n",
    "\n",
    "\t\t\t} else if (editor.notebook) {\n",
    "\t\t\t\t// Handling the notebook editor\n",
    "\t\t\t\tvar notebook = editor.notebook;\n",
    "\t\t\t\tvar activeCell = editor.selection.active;\n",
    "\n",
    "\t\t\t\tif (!activeCell) {\n",
    "\t\t\t\t\tvscode.window.showErrorMessage('No active cell found in the notebook editor.');\n",
    "\t\t\t\t\tcontext = \"\";\n",
    "\t\t\t\t}\n",
    "\n",
    "\t\t\t\t// Fallback to fetching all cell contents\n",
    "\t\t\t\tvar code = activeCell.document.getText();\n",
    "\t\t\t\tif (!code.trim()) {\n",
    "\t\t\t\t\tlet allCode = '';\n",
    "\t\t\t\t\tfor (var cell of notebook.cells) {\n",
    "\t\t\t\t\t\tallCode += cell.document.getText() + '\\n';\n",
    "\t\t\t\t\t}\n",
    "\t\t\t\t\treturn allCode.trim();\n",
    "\t\t\t\t}\n",
    "\n",
    "\t\t\t\tcontext = code;\n",
    "\t\t\t}\n",
    "\t\t} catch (error) {\n",
    "\t\t\t// Fallback to entire document or notebook in case of an error\n",
    "\t\t\tvscode.window.showErrorMessage(`Error fetching selected code: ${error.message}`);\n",
    "\t\t\tif (editor.document) {\n",
    "\t\t\t\treturn editor.document.getText();\n",
    "\t\t\t} else if (editor.notebook) {\n",
    "\t\t\t\tlet allCode = '';\n",
    "\t\t\t\tfor (var cell of editor.notebook.cells) {\n",
    "\t\t\t\t\tallCode += cell.document.getText() + '\\n';\n",
    "\t\t\t\t}\n",
    "\t\t\t\tcontext = allCode.trim();\n",
    "\t\t\t}\n",
    "\t\t}\n",
    "\t\t\n",
    "\t\t//Selecting context code:\n",
    "\t\tvar position = editor.selection.active;\n",
    "\t\tvar currentLine = position.line;\n",
    "\t\tvar start = new vscode.Position(0, 0);\n",
    "\t\tvar end = new vscode.Position(currentLine, editor.document.lineAt(currentLine).text.length);\n",
    "\t\tvar selection = new vscode.Selection(start, end);\n",
    "\t\tvar code = editor.document.getText(selection);\n",
    "\n",
    "\t\t//Getting task\n",
    "\t\tvar task = await vscode.window.showInputBox({\n",
    "\t\t\tplaceHolder: 'Enter your value here...', // Placeholder text\n",
    "\t\t\tprompt: 'This is a prompt for the input box.', // Optional prompt message\n",
    "\t\t\tvalue: 'Enter your task', // Optional pre-filled value\n",
    "\t\t  });\n",
    "\t\t\n",
    "\t\tif(task){\n",
    "\n",
    "\t\t\t\n",
    "\t\t\tif(task.trim() != \"\" && task.trim() != \".\"){\n",
    "\t\t\t\t\n",
    "\t\t\t\tvscode.window.showInformationMessage('Fetching Code!');\n",
    "\t\t\t\tfetch(\"https://web-production-ecbc.up.railway.app/generate\", {\n",
    "\t\t\t\t\tmethod: \"POST\",\n",
    "\t\t\t\t\tbody: JSON.stringify({\n",
    "\t\t\t\t\t\tquery: task,\n",
    "\t\t\t\t\t\tcurrent_code: code\n",
    "\t\t\t\t\t}),\n",
    "\t\t\t\t\theaders: {\n",
    "\t\t\t\t\t\t\"Content-type\": \"application/json\"\n",
    "\t\t\t\t\t}\n",
    "\t\t\t\t})\n",
    "\t\t\t\t.then((response) => {\n",
    "\t\t\t\t\tif (!response.ok) {\n",
    "\t\t\t\t\t\tthrow new Error('Network response was not ok');\n",
    "\t\t\t\t\t}\n",
    "\t\t\t\t\treturn response.json(); // Parse response body as JSON\n",
    "\t\t\t\t})\n",
    "\t\t\t\t.then((json) => {\n",
    "\t\t\t\t\tif (editor.document) {\n",
    "\t\t\t\t\t\tvar position = editor.selection.active;\n",
    "\t\t\t\t\t\tvar currentLine = position.line;\n",
    "\t\t\t\t\t\tvar newPosition = new vscode.Position(currentLine + 1, 0);\n",
    "\t\t\t\t\t\t\n",
    "\t\t\t\t\t\teditor.edit(editBuilder => {\n",
    "\t\t\t\t\t\t\t// console.log(json.value)\n",
    "\t\t\t\t\t\t\teditBuilder.insert(newPosition, json.value);\n",
    "\t\t\t\t\t\t}).then(success => {\n",
    "\t\t\t\t\t\t\tif (!success) {\n",
    "\t\t\t\t\t\t\t\tvscode.window.showErrorMessage('Failed to insert text into the editor.');\n",
    "\t\t\t\t\t\t\t}\n",
    "\t\t\t\t\t\t});\n",
    "\t\t\t\t\t} else if (editor.notebook) {\n",
    "\t\t\t\t\t\tvar activeCell = editor.selection.active;\n",
    "\t\t\t\t\t\tif (activeCell) {\n",
    "\t\t\t\t\t\t\tvar position = activeCell.document.positionAt(activeCell.document.getText().length);\n",
    "\t\t\t\t\t\t\tactiveCell.document.insert(position, json.value).then(success => {\n",
    "\t\t\t\t\t\t\t\tif (!success) {\n",
    "\t\t\t\t\t\t\t\t\tvscode.window.showErrorMessage('Failed to insert text into the notebook editor.');\n",
    "\t\t\t\t\t\t\t\t}\n",
    "\t\t\t\t\t\t\t});\n",
    "\t\t\t\t\t\t}\n",
    "\t\t\t\t\t\t// editor.edit(editbuilder => editbuilder.insert(new vscode.Position(currentLine+1, 0), json.value))\n",
    "\t\t\t\t\t\t// editor.edit(builder => builder.replace(newSelection, json.value))\n",
    "\t\t\t\t\t}})\n",
    "\t\t\t\t\t.catch((error) => {\n",
    "\t\t\t\t\t\tconsole.error('Error during fetch:', error);\n",
    "\t\t\t\t\t\tvscode.window.showInformationMessage('Error during fetch: ' + error.message);\n",
    "\t\t\t\t\t});\n",
    "\t\t\t\t\t\n",
    "\t\t\t\t}\n",
    "\t\t\t\telse{\n",
    "\t\t\t\t\tvscode.window.showErrorMessage(\"Task cannot be empty!\");\n",
    "\t\t\t\t}\n",
    "\t\t\t}\n",
    "\t\t\t});\n",
    "\t\t\t\n",
    "\t\t\t// console.log('Congratulations, your extension is now active!');\n",
    "\t\t\t\n",
    "\tlet store = vscode.commands.registerCommand('example.store', async function() {\n",
    "\n",
    "\t\t// let currentWorkspace = vscode.workspace.workspaceFolders[0]; // Assuming there's at least one workspace folder\n",
    "\t\t// let currentDirectoryPath = currentWorkspace.uri.fsPath;\n",
    "\n",
    "\t\tconst selection = editor.selection;\n",
    "\t\tlet storing_code = editor.document.getText(selection);\n",
    "\t\t// console.log('Current code:', storing_code);\n",
    "\t\tvscode.window.showInformationMessage(\"Updating glyph! This might take some time.\");\n",
    "\n",
    "\t\tfetch(\"https://web-production-ecbc.up.railway.app/store\", {\n",
    "\t\t\tmethod: \"POST\",\n",
    "\t\t\tbody: JSON.stringify({\n",
    "\t\t\t\tcode: storing_code \n",
    "\t\t\t}),\n",
    "\t\t\theaders: {\n",
    "\t\t\t\t\"Content-type\": \"application/json\"\n",
    "\t\t\t}\n",
    "\t\t\t})\n",
    "\t\t\t.then((response) => {\n",
    "\t\t\t\tif (!response.ok) {\n",
    "\t\t\t\t\tthrow new Error('Network response was not ok');\n",
    "\t\t\t\t}\n",
    "\t\t\t\treturn response.json(); // Parse response body as JSON\n",
    "\t\t\t})\n",
    "\t\t\t.then((json) => {\n",
    "\t\t\t\t// editor.edit(builder => builder.replace(newSelection, json.value))\n",
    "\t\t\t\tvscode.window.showInformationMessage(\"glyph updated!\"); // Show response as information message\n",
    "\t\t\t})\n",
    "\t\t\t.catch((error) => {\n",
    "\t\t\t\t// console.error('Error during fetch:', error);\n",
    "\t\t\t\tvscode.window.showInformationMessage('Error during fetch: Try restarting!');\n",
    "\t\t});\n",
    "\t})\n",
    "\n",
    "\n",
    "\n",
    "\tcontext.subscriptions.push(generate, store);\n",
    "}\n",
    "function deactivate() {}\n",
    "\n",
    "module.exports = {\n",
    "\tactivate,\n",
    "\tdeactivate\n",
    "}\n",
    "\"\"\""
   ]
  },
  {
   "cell_type": "code",
   "execution_count": null,
   "metadata": {},
   "outputs": [],
   "source": [
    "js_splitter = RecursiveCharacterTextSplitter.from_language(\n",
    "    language=Language.JS,\n",
    "    chunk_size = 2000,\n",
    "    chunk_overlap = 0\n",
    ")\n",
    "\n",
    "docs = js_splitter.create_documents([code])"
   ]
  },
  {
   "cell_type": "code",
   "execution_count": null,
   "metadata": {},
   "outputs": [],
   "source": [
    "docs[1]"
   ]
  },
  {
   "cell_type": "code",
   "execution_count": 37,
   "metadata": {},
   "outputs": [],
   "source": [
    "from ExtractEntities import get_nodes_edge"
   ]
  },
  {
   "cell_type": "code",
   "execution_count": 38,
   "metadata": {},
   "outputs": [],
   "source": [
    "res_dict = {'nodes': [], 'edges': []}"
   ]
  },
  {
   "cell_type": "code",
   "execution_count": 50,
   "metadata": {},
   "outputs": [],
   "source": [
    "kg = KnowledgeGraph()\n",
    "\n",
    "for doc in docs:\n",
    "    res = get_nodes_edge(doc.page_content)\n",
    "    kg.load_from_dict(res)"
   ]
  },
  {
   "cell_type": "code",
   "execution_count": 42,
   "metadata": {},
   "outputs": [],
   "source": [
    "from KnowledgeGraph import KnowledgeGraph"
   ]
  },
  {
   "cell_type": "code",
   "execution_count": 51,
   "metadata": {},
   "outputs": [
    {
     "name": "stdout",
     "output_type": "stream",
     "text": [
      "graph.html\n"
     ]
    }
   ],
   "source": [
    "kg.visualize()"
   ]
  },
  {
   "cell_type": "code",
   "execution_count": 52,
   "metadata": {},
   "outputs": [],
   "source": [
    "kg.save()"
   ]
  },
  {
   "cell_type": "code",
   "execution_count": 49,
   "metadata": {},
   "outputs": [
    {
     "data": {
      "text/plain": [
       "\"var vscode = require('vscode');\\n/**\\n * @param {vscode.ExtensionContext} context\\n */\""
      ]
     },
     "execution_count": 49,
     "metadata": {},
     "output_type": "execute_result"
    }
   ],
   "source": [
    "docs[0].page_content"
   ]
  },
  {
   "cell_type": "code",
   "execution_count": null,
   "metadata": {},
   "outputs": [],
   "source": []
  }
 ],
 "metadata": {
  "kernelspec": {
   "display_name": "Python 3",
   "language": "python",
   "name": "python3"
  },
  "language_info": {
   "codemirror_mode": {
    "name": "ipython",
    "version": 3
   },
   "file_extension": ".py",
   "mimetype": "text/x-python",
   "name": "python",
   "nbconvert_exporter": "python",
   "pygments_lexer": "ipython3",
   "version": "3.11.9"
  }
 },
 "nbformat": 4,
 "nbformat_minor": 2
}
